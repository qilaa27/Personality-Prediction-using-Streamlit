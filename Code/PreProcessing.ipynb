{
  "cells": [
    {
      "cell_type": "markdown",
      "metadata": {
        "id": "nWpPrTfSkfL_"
      },
      "source": [
        "# **Extrovert vs. Introvert Behavior**"
      ]
    },
    {
      "cell_type": "markdown",
      "metadata": {
        "id": "rS5eIJPFbs8r"
      },
      "source": [
        "**Group 4**\n",
        "1. Jovita Putri Aulia - 2702352616\n",
        "2. Keyla Faritsha Rindani - 2702363254\n",
        "3. Nabila Azwad Ambbiya - 2702322720\n",
        "4. Renata Aqila Ridha Putri - 2702244284\n",
        "5. Stephanie Nadya - 2702264576\n"
      ]
    },
    {
      "cell_type": "markdown",
      "metadata": {
        "id": "CetLTKg1b3pl"
      },
      "source": [
        "  Dataset consists of 2900 rows and 8 columns. Below is an explanation each column\n",
        "\n",
        "  1. Time_spent_Alone: Hours spent alone daily (0–11).\n",
        "  2. Stage_fear: Presence of stage fright (Yes/No).\n",
        "  3. Social_event_attendance: Frequency of social events (0–10).\n",
        "  4. Going_outside: Frequency of going outside (0–7).\n",
        "  5. Drained_after_socializing: Feeling drained after socializing (Yes/No).\n",
        "  6. Friends_circle_size: Number of close friends (0–15).\n",
        "  7. Post_frequency: Social media post frequency (0–10).\n",
        "  8. Personality: Target variable (Extrovert/Introvert).*"
      ]
    },
    {
      "cell_type": "code",
      "execution_count": 41,
      "metadata": {
        "id": "HQMB_4fwZZrX"
      },
      "outputs": [],
      "source": [
        "import pandas as pd\n",
        "import numpy as np\n",
        "import matplotlib.pyplot as plt\n",
        "import seaborn as sns\n",
        "\n",
        "from sklearn import preprocessing\n",
        "from sklearn.model_selection import train_test_split\n",
        "from sklearn.metrics import classification_report\n",
        "from sklearn.pipeline import Pipeline\n",
        "from sklearn.preprocessing import StandardScaler\n",
        "import joblib"
      ]
    },
    {
      "cell_type": "code",
      "execution_count": 42,
      "metadata": {
        "colab": {
          "base_uri": "https://localhost:8080/",
          "height": 206
        },
        "id": "-RmlD3zjZny8",
        "outputId": "1da74648-08eb-47d7-be32-54ae1dabe5a9"
      },
      "outputs": [
        {
          "data": {
            "text/html": [
              "<div>\n",
              "<style scoped>\n",
              "    .dataframe tbody tr th:only-of-type {\n",
              "        vertical-align: middle;\n",
              "    }\n",
              "\n",
              "    .dataframe tbody tr th {\n",
              "        vertical-align: top;\n",
              "    }\n",
              "\n",
              "    .dataframe thead th {\n",
              "        text-align: right;\n",
              "    }\n",
              "</style>\n",
              "<table border=\"1\" class=\"dataframe\">\n",
              "  <thead>\n",
              "    <tr style=\"text-align: right;\">\n",
              "      <th></th>\n",
              "      <th>Time_spent_Alone</th>\n",
              "      <th>Stage_fear</th>\n",
              "      <th>Social_event_attendance</th>\n",
              "      <th>Going_outside</th>\n",
              "      <th>Drained_after_socializing</th>\n",
              "      <th>Friends_circle_size</th>\n",
              "      <th>Post_frequency</th>\n",
              "      <th>Personality</th>\n",
              "    </tr>\n",
              "  </thead>\n",
              "  <tbody>\n",
              "    <tr>\n",
              "      <th>0</th>\n",
              "      <td>4.0</td>\n",
              "      <td>No</td>\n",
              "      <td>4.0</td>\n",
              "      <td>6.0</td>\n",
              "      <td>No</td>\n",
              "      <td>13.0</td>\n",
              "      <td>5.0</td>\n",
              "      <td>Extrovert</td>\n",
              "    </tr>\n",
              "    <tr>\n",
              "      <th>1</th>\n",
              "      <td>9.0</td>\n",
              "      <td>Yes</td>\n",
              "      <td>0.0</td>\n",
              "      <td>0.0</td>\n",
              "      <td>Yes</td>\n",
              "      <td>0.0</td>\n",
              "      <td>3.0</td>\n",
              "      <td>Introvert</td>\n",
              "    </tr>\n",
              "    <tr>\n",
              "      <th>2</th>\n",
              "      <td>9.0</td>\n",
              "      <td>Yes</td>\n",
              "      <td>1.0</td>\n",
              "      <td>2.0</td>\n",
              "      <td>Yes</td>\n",
              "      <td>5.0</td>\n",
              "      <td>2.0</td>\n",
              "      <td>Introvert</td>\n",
              "    </tr>\n",
              "    <tr>\n",
              "      <th>3</th>\n",
              "      <td>0.0</td>\n",
              "      <td>No</td>\n",
              "      <td>6.0</td>\n",
              "      <td>7.0</td>\n",
              "      <td>No</td>\n",
              "      <td>14.0</td>\n",
              "      <td>8.0</td>\n",
              "      <td>Extrovert</td>\n",
              "    </tr>\n",
              "    <tr>\n",
              "      <th>4</th>\n",
              "      <td>3.0</td>\n",
              "      <td>No</td>\n",
              "      <td>9.0</td>\n",
              "      <td>4.0</td>\n",
              "      <td>No</td>\n",
              "      <td>8.0</td>\n",
              "      <td>5.0</td>\n",
              "      <td>Extrovert</td>\n",
              "    </tr>\n",
              "  </tbody>\n",
              "</table>\n",
              "</div>"
            ],
            "text/plain": [
              "   Time_spent_Alone Stage_fear  Social_event_attendance  Going_outside  \\\n",
              "0               4.0         No                      4.0            6.0   \n",
              "1               9.0        Yes                      0.0            0.0   \n",
              "2               9.0        Yes                      1.0            2.0   \n",
              "3               0.0         No                      6.0            7.0   \n",
              "4               3.0         No                      9.0            4.0   \n",
              "\n",
              "  Drained_after_socializing  Friends_circle_size  Post_frequency Personality  \n",
              "0                        No                 13.0             5.0   Extrovert  \n",
              "1                       Yes                  0.0             3.0   Introvert  \n",
              "2                       Yes                  5.0             2.0   Introvert  \n",
              "3                        No                 14.0             8.0   Extrovert  \n",
              "4                        No                  8.0             5.0   Extrovert  "
            ]
          },
          "execution_count": 42,
          "metadata": {},
          "output_type": "execute_result"
        }
      ],
      "source": [
        "df = pd.read_csv(\"personality_dataset.csv\")\n",
        "\n",
        "df.head()"
      ]
    },
    {
      "cell_type": "code",
      "execution_count": 43,
      "metadata": {
        "colab": {
          "base_uri": "https://localhost:8080/"
        },
        "id": "xUda3kKaZt9C",
        "outputId": "724dd308-e31f-49f6-ac2f-6a232f9d1285"
      },
      "outputs": [
        {
          "data": {
            "text/plain": [
              "(2900, 8)"
            ]
          },
          "execution_count": 43,
          "metadata": {},
          "output_type": "execute_result"
        }
      ],
      "source": [
        "df.shape"
      ]
    },
    {
      "cell_type": "markdown",
      "metadata": {},
      "source": [
        "Dataset ini berisi 2.900 data dengan 8 fitur yang berkaitan dengan perilaku sosial dan ciri kepribadian, yang dirancang untuk mengeksplorasi dan mengklasifikasikan individu sebagai ekstrovert atau introvert."
      ]
    },
    {
      "cell_type": "code",
      "execution_count": 44,
      "metadata": {
        "colab": {
          "base_uri": "https://localhost:8080/"
        },
        "id": "Xar4O-FBZvRW",
        "outputId": "f16de055-c6b3-4b27-920c-cba1948c5c84"
      },
      "outputs": [
        {
          "name": "stdout",
          "output_type": "stream",
          "text": [
            "<class 'pandas.core.frame.DataFrame'>\n",
            "RangeIndex: 2900 entries, 0 to 2899\n",
            "Data columns (total 8 columns):\n",
            " #   Column                     Non-Null Count  Dtype  \n",
            "---  ------                     --------------  -----  \n",
            " 0   Time_spent_Alone           2837 non-null   float64\n",
            " 1   Stage_fear                 2827 non-null   object \n",
            " 2   Social_event_attendance    2838 non-null   float64\n",
            " 3   Going_outside              2834 non-null   float64\n",
            " 4   Drained_after_socializing  2848 non-null   object \n",
            " 5   Friends_circle_size        2823 non-null   float64\n",
            " 6   Post_frequency             2835 non-null   float64\n",
            " 7   Personality                2900 non-null   object \n",
            "dtypes: float64(5), object(3)\n",
            "memory usage: 181.4+ KB\n"
          ]
        }
      ],
      "source": [
        "df.info()"
      ]
    },
    {
      "cell_type": "markdown",
      "metadata": {},
      "source": [
        "Dari info ini bisa disimpulkan beberapa informasi:\n",
        "- Data type pada tiap kolom sudah tepat.\n",
        "- Ada missing values pada tiap kolom dataset kecuali kolom ‘Personality’."
      ]
    },
    {
      "cell_type": "code",
      "execution_count": 45,
      "metadata": {
        "colab": {
          "base_uri": "https://localhost:8080/",
          "height": 335
        },
        "id": "J42LdsvAZ1yu",
        "outputId": "681492b5-2785-4b33-fb06-d324b5fc561b"
      },
      "outputs": [
        {
          "data": {
            "text/plain": [
              "Time_spent_Alone             63\n",
              "Stage_fear                   73\n",
              "Social_event_attendance      62\n",
              "Going_outside                66\n",
              "Drained_after_socializing    52\n",
              "Friends_circle_size          77\n",
              "Post_frequency               65\n",
              "Personality                   0\n",
              "dtype: int64"
            ]
          },
          "execution_count": 45,
          "metadata": {},
          "output_type": "execute_result"
        }
      ],
      "source": [
        "df.isnull().sum()"
      ]
    },
    {
      "cell_type": "code",
      "execution_count": 46,
      "metadata": {
        "colab": {
          "base_uri": "https://localhost:8080/"
        },
        "id": "IS8gH0qqZ4mP",
        "outputId": "87a8dfc0-a6c2-4b0b-d9dc-d465d36160e7"
      },
      "outputs": [
        {
          "name": "stdout",
          "output_type": "stream",
          "text": [
            "Time_spent_Alone 0.0     369\n",
            "2.0     357\n",
            "3.0     353\n",
            "1.0     326\n",
            "9.0     206\n",
            "10.0    196\n",
            "4.0     190\n",
            "7.0     190\n",
            "5.0     180\n",
            "8.0     180\n",
            "6.0     150\n",
            "11.0    140\n",
            "Name: Time_spent_Alone, dtype: int64\n",
            "Stage_fear No     1417\n",
            "Yes    1410\n",
            "Name: Stage_fear, dtype: int64\n",
            "Social_event_attendance 2.0     408\n",
            "0.0     378\n",
            "1.0     322\n",
            "3.0     317\n",
            "4.0     255\n",
            "6.0     239\n",
            "7.0     239\n",
            "9.0     236\n",
            "5.0     224\n",
            "8.0     206\n",
            "10.0     14\n",
            "Name: Social_event_attendance, dtype: int64\n",
            "Going_outside 0.0    498\n",
            "2.0    456\n",
            "1.0    429\n",
            "5.0    374\n",
            "4.0    359\n",
            "6.0    335\n",
            "3.0    209\n",
            "7.0    174\n",
            "Name: Going_outside, dtype: int64\n",
            "Drained_after_socializing No     1441\n",
            "Yes    1407\n",
            "Name: Drained_after_socializing, dtype: int64\n",
            "Friends_circle_size 5.0     301\n",
            "3.0     283\n",
            "1.0     281\n",
            "2.0     274\n",
            "4.0     254\n",
            "8.0     165\n",
            "12.0    148\n",
            "10.0    146\n",
            "14.0    144\n",
            "6.0     137\n",
            "9.0     135\n",
            "11.0    134\n",
            "7.0     133\n",
            "13.0    123\n",
            "0.0     106\n",
            "15.0     59\n",
            "Name: Friends_circle_size, dtype: int64\n",
            "Post_frequency 2.0     481\n",
            "1.0     455\n",
            "0.0     451\n",
            "7.0     236\n",
            "5.0     212\n",
            "6.0     210\n",
            "3.0     208\n",
            "4.0     195\n",
            "8.0     193\n",
            "9.0     171\n",
            "10.0     23\n",
            "Name: Post_frequency, dtype: int64\n",
            "Personality Extrovert    1491\n",
            "Introvert    1409\n",
            "Name: Personality, dtype: int64\n"
          ]
        }
      ],
      "source": [
        "for col in df.columns:\n",
        "    print(col, df[col].value_counts())"
      ]
    },
    {
      "cell_type": "markdown",
      "metadata": {
        "id": "LGoXpfN5ckJI"
      },
      "source": [
        "**Imputasi Missing Values**"
      ]
    },
    {
      "cell_type": "code",
      "execution_count": 47,
      "metadata": {
        "colab": {
          "base_uri": "https://localhost:8080/",
          "height": 300
        },
        "id": "poxAuwb-dSM8",
        "outputId": "b8eff4db-6a45-4bd6-dd81-1b576580c9a9"
      },
      "outputs": [
        {
          "data": {
            "text/html": [
              "<div>\n",
              "<style scoped>\n",
              "    .dataframe tbody tr th:only-of-type {\n",
              "        vertical-align: middle;\n",
              "    }\n",
              "\n",
              "    .dataframe tbody tr th {\n",
              "        vertical-align: top;\n",
              "    }\n",
              "\n",
              "    .dataframe thead th {\n",
              "        text-align: right;\n",
              "    }\n",
              "</style>\n",
              "<table border=\"1\" class=\"dataframe\">\n",
              "  <thead>\n",
              "    <tr style=\"text-align: right;\">\n",
              "      <th></th>\n",
              "      <th>Time_spent_Alone</th>\n",
              "      <th>Social_event_attendance</th>\n",
              "      <th>Going_outside</th>\n",
              "      <th>Friends_circle_size</th>\n",
              "      <th>Post_frequency</th>\n",
              "    </tr>\n",
              "  </thead>\n",
              "  <tbody>\n",
              "    <tr>\n",
              "      <th>count</th>\n",
              "      <td>2837.000000</td>\n",
              "      <td>2838.000000</td>\n",
              "      <td>2834.000000</td>\n",
              "      <td>2823.000000</td>\n",
              "      <td>2835.000000</td>\n",
              "    </tr>\n",
              "    <tr>\n",
              "      <th>mean</th>\n",
              "      <td>4.505816</td>\n",
              "      <td>3.963354</td>\n",
              "      <td>3.000000</td>\n",
              "      <td>6.268863</td>\n",
              "      <td>3.564727</td>\n",
              "    </tr>\n",
              "    <tr>\n",
              "      <th>std</th>\n",
              "      <td>3.479192</td>\n",
              "      <td>2.903827</td>\n",
              "      <td>2.247327</td>\n",
              "      <td>4.289693</td>\n",
              "      <td>2.926582</td>\n",
              "    </tr>\n",
              "    <tr>\n",
              "      <th>min</th>\n",
              "      <td>0.000000</td>\n",
              "      <td>0.000000</td>\n",
              "      <td>0.000000</td>\n",
              "      <td>0.000000</td>\n",
              "      <td>0.000000</td>\n",
              "    </tr>\n",
              "    <tr>\n",
              "      <th>25%</th>\n",
              "      <td>2.000000</td>\n",
              "      <td>2.000000</td>\n",
              "      <td>1.000000</td>\n",
              "      <td>3.000000</td>\n",
              "      <td>1.000000</td>\n",
              "    </tr>\n",
              "    <tr>\n",
              "      <th>50%</th>\n",
              "      <td>4.000000</td>\n",
              "      <td>3.000000</td>\n",
              "      <td>3.000000</td>\n",
              "      <td>5.000000</td>\n",
              "      <td>3.000000</td>\n",
              "    </tr>\n",
              "    <tr>\n",
              "      <th>75%</th>\n",
              "      <td>8.000000</td>\n",
              "      <td>6.000000</td>\n",
              "      <td>5.000000</td>\n",
              "      <td>10.000000</td>\n",
              "      <td>6.000000</td>\n",
              "    </tr>\n",
              "    <tr>\n",
              "      <th>max</th>\n",
              "      <td>11.000000</td>\n",
              "      <td>10.000000</td>\n",
              "      <td>7.000000</td>\n",
              "      <td>15.000000</td>\n",
              "      <td>10.000000</td>\n",
              "    </tr>\n",
              "  </tbody>\n",
              "</table>\n",
              "</div>"
            ],
            "text/plain": [
              "       Time_spent_Alone  Social_event_attendance  Going_outside  \\\n",
              "count       2837.000000              2838.000000    2834.000000   \n",
              "mean           4.505816                 3.963354       3.000000   \n",
              "std            3.479192                 2.903827       2.247327   \n",
              "min            0.000000                 0.000000       0.000000   \n",
              "25%            2.000000                 2.000000       1.000000   \n",
              "50%            4.000000                 3.000000       3.000000   \n",
              "75%            8.000000                 6.000000       5.000000   \n",
              "max           11.000000                10.000000       7.000000   \n",
              "\n",
              "       Friends_circle_size  Post_frequency  \n",
              "count          2823.000000     2835.000000  \n",
              "mean              6.268863        3.564727  \n",
              "std               4.289693        2.926582  \n",
              "min               0.000000        0.000000  \n",
              "25%               3.000000        1.000000  \n",
              "50%               5.000000        3.000000  \n",
              "75%              10.000000        6.000000  \n",
              "max              15.000000       10.000000  "
            ]
          },
          "execution_count": 47,
          "metadata": {},
          "output_type": "execute_result"
        }
      ],
      "source": [
        "i = ['Time_spent_Alone', 'Social_event_attendance', 'Going_outside', 'Friends_circle_size', 'Post_frequency']\n",
        "\n",
        "df[i].describe()"
      ]
    },
    {
      "cell_type": "markdown",
      "metadata": {
        "id": "gLQzSQ1TdINO"
      },
      "source": [
        "Impute with mode"
      ]
    },
    {
      "cell_type": "code",
      "execution_count": 48,
      "metadata": {
        "colab": {
          "base_uri": "https://localhost:8080/"
        },
        "id": "EuHBXnUzcjxS",
        "outputId": "642ab09b-2d81-410d-fa33-f9449ca5c53e"
      },
      "outputs": [],
      "source": [
        "df['Stage_fear'].fillna(df['Stage_fear'].mode()[0], inplace=True)\n",
        "df['Drained_after_socializing'].fillna(df['Drained_after_socializing'].mode()[0], inplace=True)"
      ]
    },
    {
      "cell_type": "markdown",
      "metadata": {
        "id": "9cIhYZEFdKLR"
      },
      "source": [
        "Impute with median"
      ]
    },
    {
      "cell_type": "code",
      "execution_count": 49,
      "metadata": {
        "colab": {
          "base_uri": "https://localhost:8080/"
        },
        "id": "h8Y_eg1veQ7a",
        "outputId": "37bea9b0-30c2-4cb4-8384-12828321bd11"
      },
      "outputs": [],
      "source": [
        "median_cols = ['Time_spent_Alone', 'Social_event_attendance', 'Friends_circle_size', 'Post_frequency']\n",
        "for col in median_cols:\n",
        "    df[col].fillna(df[col].median(), inplace=True)"
      ]
    },
    {
      "cell_type": "markdown",
      "metadata": {
        "id": "ttji2OgQeO8X"
      },
      "source": [
        "Impute with mean"
      ]
    },
    {
      "cell_type": "code",
      "execution_count": 50,
      "metadata": {
        "colab": {
          "base_uri": "https://localhost:8080/"
        },
        "id": "6dRZ-_GleZ2O",
        "outputId": "4027143e-3ad1-46ba-9806-0487a39fb1d0"
      },
      "outputs": [],
      "source": [
        "df['Going_outside'].fillna(df['Going_outside'].mean(), inplace=True)"
      ]
    },
    {
      "cell_type": "code",
      "execution_count": 51,
      "metadata": {
        "colab": {
          "base_uri": "https://localhost:8080/",
          "height": 335
        },
        "id": "NRXAqjc0ecQv",
        "outputId": "b2b23bcc-cd20-4a03-d448-350cfcde009f"
      },
      "outputs": [
        {
          "data": {
            "text/plain": [
              "Time_spent_Alone             0\n",
              "Stage_fear                   0\n",
              "Social_event_attendance      0\n",
              "Going_outside                0\n",
              "Drained_after_socializing    0\n",
              "Friends_circle_size          0\n",
              "Post_frequency               0\n",
              "Personality                  0\n",
              "dtype: int64"
            ]
          },
          "execution_count": 51,
          "metadata": {},
          "output_type": "execute_result"
        }
      ],
      "source": [
        "df.isnull().sum()"
      ]
    },
    {
      "cell_type": "code",
      "execution_count": 52,
      "metadata": {
        "colab": {
          "base_uri": "https://localhost:8080/",
          "height": 206
        },
        "id": "eipkaLe8fRo1",
        "outputId": "3149d0ca-79bb-4df5-f42f-c7994c98fbf2"
      },
      "outputs": [
        {
          "data": {
            "text/html": [
              "<div>\n",
              "<style scoped>\n",
              "    .dataframe tbody tr th:only-of-type {\n",
              "        vertical-align: middle;\n",
              "    }\n",
              "\n",
              "    .dataframe tbody tr th {\n",
              "        vertical-align: top;\n",
              "    }\n",
              "\n",
              "    .dataframe thead th {\n",
              "        text-align: right;\n",
              "    }\n",
              "</style>\n",
              "<table border=\"1\" class=\"dataframe\">\n",
              "  <thead>\n",
              "    <tr style=\"text-align: right;\">\n",
              "      <th></th>\n",
              "      <th>Time_spent_Alone</th>\n",
              "      <th>Stage_fear</th>\n",
              "      <th>Social_event_attendance</th>\n",
              "      <th>Going_outside</th>\n",
              "      <th>Drained_after_socializing</th>\n",
              "      <th>Friends_circle_size</th>\n",
              "      <th>Post_frequency</th>\n",
              "      <th>Personality</th>\n",
              "    </tr>\n",
              "  </thead>\n",
              "  <tbody>\n",
              "    <tr>\n",
              "      <th>0</th>\n",
              "      <td>4.0</td>\n",
              "      <td>No</td>\n",
              "      <td>4.0</td>\n",
              "      <td>6.0</td>\n",
              "      <td>No</td>\n",
              "      <td>13.0</td>\n",
              "      <td>5.0</td>\n",
              "      <td>Extrovert</td>\n",
              "    </tr>\n",
              "    <tr>\n",
              "      <th>1</th>\n",
              "      <td>9.0</td>\n",
              "      <td>Yes</td>\n",
              "      <td>0.0</td>\n",
              "      <td>0.0</td>\n",
              "      <td>Yes</td>\n",
              "      <td>0.0</td>\n",
              "      <td>3.0</td>\n",
              "      <td>Introvert</td>\n",
              "    </tr>\n",
              "    <tr>\n",
              "      <th>2</th>\n",
              "      <td>9.0</td>\n",
              "      <td>Yes</td>\n",
              "      <td>1.0</td>\n",
              "      <td>2.0</td>\n",
              "      <td>Yes</td>\n",
              "      <td>5.0</td>\n",
              "      <td>2.0</td>\n",
              "      <td>Introvert</td>\n",
              "    </tr>\n",
              "    <tr>\n",
              "      <th>3</th>\n",
              "      <td>0.0</td>\n",
              "      <td>No</td>\n",
              "      <td>6.0</td>\n",
              "      <td>7.0</td>\n",
              "      <td>No</td>\n",
              "      <td>14.0</td>\n",
              "      <td>8.0</td>\n",
              "      <td>Extrovert</td>\n",
              "    </tr>\n",
              "    <tr>\n",
              "      <th>4</th>\n",
              "      <td>3.0</td>\n",
              "      <td>No</td>\n",
              "      <td>9.0</td>\n",
              "      <td>4.0</td>\n",
              "      <td>No</td>\n",
              "      <td>8.0</td>\n",
              "      <td>5.0</td>\n",
              "      <td>Extrovert</td>\n",
              "    </tr>\n",
              "  </tbody>\n",
              "</table>\n",
              "</div>"
            ],
            "text/plain": [
              "   Time_spent_Alone Stage_fear  Social_event_attendance  Going_outside  \\\n",
              "0               4.0         No                      4.0            6.0   \n",
              "1               9.0        Yes                      0.0            0.0   \n",
              "2               9.0        Yes                      1.0            2.0   \n",
              "3               0.0         No                      6.0            7.0   \n",
              "4               3.0         No                      9.0            4.0   \n",
              "\n",
              "  Drained_after_socializing  Friends_circle_size  Post_frequency Personality  \n",
              "0                        No                 13.0             5.0   Extrovert  \n",
              "1                       Yes                  0.0             3.0   Introvert  \n",
              "2                       Yes                  5.0             2.0   Introvert  \n",
              "3                        No                 14.0             8.0   Extrovert  \n",
              "4                        No                  8.0             5.0   Extrovert  "
            ]
          },
          "execution_count": 52,
          "metadata": {},
          "output_type": "execute_result"
        }
      ],
      "source": [
        "df.head()"
      ]
    },
    {
      "cell_type": "code",
      "execution_count": 53,
      "metadata": {
        "colab": {
          "base_uri": "https://localhost:8080/",
          "height": 300
        },
        "id": "6JFbufwmesCE",
        "outputId": "acb73a46-76dd-41fb-e1a9-ba70ab517ee9"
      },
      "outputs": [
        {
          "data": {
            "text/html": [
              "<div>\n",
              "<style scoped>\n",
              "    .dataframe tbody tr th:only-of-type {\n",
              "        vertical-align: middle;\n",
              "    }\n",
              "\n",
              "    .dataframe tbody tr th {\n",
              "        vertical-align: top;\n",
              "    }\n",
              "\n",
              "    .dataframe thead th {\n",
              "        text-align: right;\n",
              "    }\n",
              "</style>\n",
              "<table border=\"1\" class=\"dataframe\">\n",
              "  <thead>\n",
              "    <tr style=\"text-align: right;\">\n",
              "      <th></th>\n",
              "      <th>Time_spent_Alone</th>\n",
              "      <th>Social_event_attendance</th>\n",
              "      <th>Going_outside</th>\n",
              "      <th>Friends_circle_size</th>\n",
              "      <th>Post_frequency</th>\n",
              "    </tr>\n",
              "  </thead>\n",
              "  <tbody>\n",
              "    <tr>\n",
              "      <th>count</th>\n",
              "      <td>2900.000000</td>\n",
              "      <td>2900.000000</td>\n",
              "      <td>2900.000000</td>\n",
              "      <td>2900.000000</td>\n",
              "      <td>2900.000000</td>\n",
              "    </tr>\n",
              "    <tr>\n",
              "      <th>mean</th>\n",
              "      <td>4.494828</td>\n",
              "      <td>3.942759</td>\n",
              "      <td>3.000000</td>\n",
              "      <td>6.235172</td>\n",
              "      <td>3.552069</td>\n",
              "    </tr>\n",
              "    <tr>\n",
              "      <th>std</th>\n",
              "      <td>3.441971</td>\n",
              "      <td>2.875987</td>\n",
              "      <td>2.221597</td>\n",
              "      <td>4.237255</td>\n",
              "      <td>2.894794</td>\n",
              "    </tr>\n",
              "    <tr>\n",
              "      <th>min</th>\n",
              "      <td>0.000000</td>\n",
              "      <td>0.000000</td>\n",
              "      <td>0.000000</td>\n",
              "      <td>0.000000</td>\n",
              "      <td>0.000000</td>\n",
              "    </tr>\n",
              "    <tr>\n",
              "      <th>25%</th>\n",
              "      <td>2.000000</td>\n",
              "      <td>2.000000</td>\n",
              "      <td>1.000000</td>\n",
              "      <td>3.000000</td>\n",
              "      <td>1.000000</td>\n",
              "    </tr>\n",
              "    <tr>\n",
              "      <th>50%</th>\n",
              "      <td>4.000000</td>\n",
              "      <td>3.000000</td>\n",
              "      <td>3.000000</td>\n",
              "      <td>5.000000</td>\n",
              "      <td>3.000000</td>\n",
              "    </tr>\n",
              "    <tr>\n",
              "      <th>75%</th>\n",
              "      <td>7.000000</td>\n",
              "      <td>6.000000</td>\n",
              "      <td>5.000000</td>\n",
              "      <td>10.000000</td>\n",
              "      <td>6.000000</td>\n",
              "    </tr>\n",
              "    <tr>\n",
              "      <th>max</th>\n",
              "      <td>11.000000</td>\n",
              "      <td>10.000000</td>\n",
              "      <td>7.000000</td>\n",
              "      <td>15.000000</td>\n",
              "      <td>10.000000</td>\n",
              "    </tr>\n",
              "  </tbody>\n",
              "</table>\n",
              "</div>"
            ],
            "text/plain": [
              "       Time_spent_Alone  Social_event_attendance  Going_outside  \\\n",
              "count       2900.000000              2900.000000    2900.000000   \n",
              "mean           4.494828                 3.942759       3.000000   \n",
              "std            3.441971                 2.875987       2.221597   \n",
              "min            0.000000                 0.000000       0.000000   \n",
              "25%            2.000000                 2.000000       1.000000   \n",
              "50%            4.000000                 3.000000       3.000000   \n",
              "75%            7.000000                 6.000000       5.000000   \n",
              "max           11.000000                10.000000       7.000000   \n",
              "\n",
              "       Friends_circle_size  Post_frequency  \n",
              "count          2900.000000     2900.000000  \n",
              "mean              6.235172        3.552069  \n",
              "std               4.237255        2.894794  \n",
              "min               0.000000        0.000000  \n",
              "25%               3.000000        1.000000  \n",
              "50%               5.000000        3.000000  \n",
              "75%              10.000000        6.000000  \n",
              "max              15.000000       10.000000  "
            ]
          },
          "execution_count": 53,
          "metadata": {},
          "output_type": "execute_result"
        }
      ],
      "source": [
        "df.describe()"
      ]
    },
    {
      "cell_type": "markdown",
      "metadata": {
        "id": "juV_RmuDe6rM"
      },
      "source": [
        " Kesimpulan:\n",
        "- Semua kolom sudah tidak ada missing values (count = 2900)\n",
        "\n",
        "- Distribusi tidak berubah ekstrem setelah imputasi\n",
        "\n",
        "- Tidak muncul nilai outlier baru\n",
        "\n",
        "- Mean dan median tetap konsisten dengan kondisi sebelum imputasi"
      ]
    },
    {
      "cell_type": "markdown",
      "metadata": {
        "id": "QycwrdOcfTBC"
      },
      "source": [
        "**Encoding**"
      ]
    },
    {
      "cell_type": "code",
      "execution_count": 54,
      "metadata": {
        "colab": {
          "base_uri": "https://localhost:8080/"
        },
        "id": "zBOKbPjtfU_5",
        "outputId": "eb681a49-dc0b-4084-b371-f59fee3c6bd8"
      },
      "outputs": [],
      "source": [
        "binary ={\"Stage_fear\": {\"No\": 0, \"Yes\" : 1},\n",
        "         \"Drained_after_socializing\": {\"No\" : 0, \"Yes\" : 1}}\n",
        "df = df.replace(binary)"
      ]
    },
    {
      "cell_type": "code",
      "execution_count": 55,
      "metadata": {
        "colab": {
          "base_uri": "https://localhost:8080/"
        },
        "id": "cim79byngVkY",
        "outputId": "2f264ac3-a880-4fc1-9ddd-dedecf473186"
      },
      "outputs": [],
      "source": [
        "label = {\"Personality\": {\"Extrovert\": 0, \"Introvert\": 1}}\n",
        "df = df.replace(label)"
      ]
    },
    {
      "cell_type": "code",
      "execution_count": 56,
      "metadata": {
        "colab": {
          "base_uri": "https://localhost:8080/",
          "height": 206
        },
        "id": "azhz-f_OgZpl",
        "outputId": "2eb41259-903f-47fc-e299-f0f6cab89638"
      },
      "outputs": [
        {
          "data": {
            "text/html": [
              "<div>\n",
              "<style scoped>\n",
              "    .dataframe tbody tr th:only-of-type {\n",
              "        vertical-align: middle;\n",
              "    }\n",
              "\n",
              "    .dataframe tbody tr th {\n",
              "        vertical-align: top;\n",
              "    }\n",
              "\n",
              "    .dataframe thead th {\n",
              "        text-align: right;\n",
              "    }\n",
              "</style>\n",
              "<table border=\"1\" class=\"dataframe\">\n",
              "  <thead>\n",
              "    <tr style=\"text-align: right;\">\n",
              "      <th></th>\n",
              "      <th>Time_spent_Alone</th>\n",
              "      <th>Stage_fear</th>\n",
              "      <th>Social_event_attendance</th>\n",
              "      <th>Going_outside</th>\n",
              "      <th>Drained_after_socializing</th>\n",
              "      <th>Friends_circle_size</th>\n",
              "      <th>Post_frequency</th>\n",
              "      <th>Personality</th>\n",
              "    </tr>\n",
              "  </thead>\n",
              "  <tbody>\n",
              "    <tr>\n",
              "      <th>0</th>\n",
              "      <td>4.0</td>\n",
              "      <td>0</td>\n",
              "      <td>4.0</td>\n",
              "      <td>6.0</td>\n",
              "      <td>0</td>\n",
              "      <td>13.0</td>\n",
              "      <td>5.0</td>\n",
              "      <td>0</td>\n",
              "    </tr>\n",
              "    <tr>\n",
              "      <th>1</th>\n",
              "      <td>9.0</td>\n",
              "      <td>1</td>\n",
              "      <td>0.0</td>\n",
              "      <td>0.0</td>\n",
              "      <td>1</td>\n",
              "      <td>0.0</td>\n",
              "      <td>3.0</td>\n",
              "      <td>1</td>\n",
              "    </tr>\n",
              "    <tr>\n",
              "      <th>2</th>\n",
              "      <td>9.0</td>\n",
              "      <td>1</td>\n",
              "      <td>1.0</td>\n",
              "      <td>2.0</td>\n",
              "      <td>1</td>\n",
              "      <td>5.0</td>\n",
              "      <td>2.0</td>\n",
              "      <td>1</td>\n",
              "    </tr>\n",
              "    <tr>\n",
              "      <th>3</th>\n",
              "      <td>0.0</td>\n",
              "      <td>0</td>\n",
              "      <td>6.0</td>\n",
              "      <td>7.0</td>\n",
              "      <td>0</td>\n",
              "      <td>14.0</td>\n",
              "      <td>8.0</td>\n",
              "      <td>0</td>\n",
              "    </tr>\n",
              "    <tr>\n",
              "      <th>4</th>\n",
              "      <td>3.0</td>\n",
              "      <td>0</td>\n",
              "      <td>9.0</td>\n",
              "      <td>4.0</td>\n",
              "      <td>0</td>\n",
              "      <td>8.0</td>\n",
              "      <td>5.0</td>\n",
              "      <td>0</td>\n",
              "    </tr>\n",
              "  </tbody>\n",
              "</table>\n",
              "</div>"
            ],
            "text/plain": [
              "   Time_spent_Alone  Stage_fear  Social_event_attendance  Going_outside  \\\n",
              "0               4.0           0                      4.0            6.0   \n",
              "1               9.0           1                      0.0            0.0   \n",
              "2               9.0           1                      1.0            2.0   \n",
              "3               0.0           0                      6.0            7.0   \n",
              "4               3.0           0                      9.0            4.0   \n",
              "\n",
              "   Drained_after_socializing  Friends_circle_size  Post_frequency  Personality  \n",
              "0                          0                 13.0             5.0            0  \n",
              "1                          1                  0.0             3.0            1  \n",
              "2                          1                  5.0             2.0            1  \n",
              "3                          0                 14.0             8.0            0  \n",
              "4                          0                  8.0             5.0            0  "
            ]
          },
          "execution_count": 56,
          "metadata": {},
          "output_type": "execute_result"
        }
      ],
      "source": [
        "df.head()"
      ]
    },
    {
      "cell_type": "markdown",
      "metadata": {},
      "source": [
        "Terdapat 3 kolom yang perlu diencode dengan binary maupun label encoding, berikut rinciannya:\n",
        "- Stage_fear dengan binary encoding\n",
        "- Drained_after_socializing dengan binary encoding\n",
        "- Personality dengan label encoding "
      ]
    },
    {
      "cell_type": "markdown",
      "metadata": {
        "id": "9RF9p7jngkL1"
      },
      "source": [
        "**Heatmap**"
      ]
    },
    {
      "cell_type": "code",
      "execution_count": 57,
      "metadata": {
        "colab": {
          "base_uri": "https://localhost:8080/",
          "height": 859
        },
        "id": "H8d06lntgkdn",
        "outputId": "7264dbab-7f74-4a09-a1cd-d546ffaf6aae"
      },
      "outputs": [
        {
          "data": {
            "image/png": "[encoded data removed]",
            "text/plain": [
              "<Figure size 1000x800 with 2 Axes>"
            ]
          },
          "metadata": {},
          "output_type": "display_data"
        }
      ],
      "source": [
        "numeric_data = df.select_dtypes(include=[np.number])\n",
        "\n",
        "correlation_matrix = numeric_data.corr()\n",
        "\n",
        "plt.figure(figsize=(10, 8))\n",
        "sns.heatmap(correlation_matrix, annot=True, cmap=\"Blues\", fmt=\".2f\")\n",
        "plt.title(\"Correlation of Each Variable with Target Variables\")\n",
        "plt.show()"
      ]
    },
    {
      "cell_type": "markdown",
      "metadata": {},
      "source": [
        "Heatmap ini menunjukkan korelasi antar variabel. Warna biru tua menandakan korelasi yang kuat, sedangkan biru muda menandakan korelasi lemah.\n",
        "Beberapa poin penting:\n",
        "- Time_spent_Alone berkorelasi positif dengan Stage_fear dan Drained_after_socializing.\n",
        "- Stage_fear sangat berkorelasi dengan Drained_after_socializing (0.96).\n",
        "- Personality berkorelasi negatif dengan variabel seperti Stage_fear dan Time_spent_Alone, menandakan kecenderungan ekstrover.\n",
        "\n",
        "Heatmap ini membantu memahami hubungan antar fitur sebelum proses modeling\n"
      ]
    },
    {
      "cell_type": "code",
      "execution_count": 58,
      "metadata": {
        "colab": {
          "base_uri": "https://localhost:8080/"
        },
        "id": "mtaRFTpqg7Lj",
        "outputId": "c9e9bede-7fc0-4715-9cbc-432e1a94380f"
      },
      "outputs": [
        {
          "name": "stdout",
          "output_type": "stream",
          "text": [
            "<class 'pandas.core.frame.DataFrame'>\n",
            "RangeIndex: 2900 entries, 0 to 2899\n",
            "Data columns (total 8 columns):\n",
            " #   Column                     Non-Null Count  Dtype  \n",
            "---  ------                     --------------  -----  \n",
            " 0   Time_spent_Alone           2900 non-null   float64\n",
            " 1   Stage_fear                 2900 non-null   int64  \n",
            " 2   Social_event_attendance    2900 non-null   float64\n",
            " 3   Going_outside              2900 non-null   float64\n",
            " 4   Drained_after_socializing  2900 non-null   int64  \n",
            " 5   Friends_circle_size        2900 non-null   float64\n",
            " 6   Post_frequency             2900 non-null   float64\n",
            " 7   Personality                2900 non-null   int64  \n",
            "dtypes: float64(5), int64(3)\n",
            "memory usage: 181.4 KB\n"
          ]
        }
      ],
      "source": [
        "df.info()"
      ]
    },
    {
      "cell_type": "markdown",
      "metadata": {
        "id": "z2yijDcChL4M"
      },
      "source": [
        "## **Classification**"
      ]
    },
    {
      "cell_type": "code",
      "execution_count": 59,
      "metadata": {
        "id": "l45BZY_chVKx"
      },
      "outputs": [],
      "source": [
        "input_df=df.drop('Personality',axis=1)\n",
        "output_df=df['Personality']"
      ]
    },
    {
      "cell_type": "markdown",
      "metadata": {},
      "source": [
        "Kolom ‘Personality’ di set menjadi target variabel."
      ]
    },
    {
      "cell_type": "code",
      "execution_count": 60,
      "metadata": {
        "id": "ZfykTPDSiATB"
      },
      "outputs": [],
      "source": [
        "x_train, x_test, y_train, y_test = train_test_split(input_df, output_df, test_size = 0.2, random_state = 0)"
      ]
    },
    {
      "cell_type": "markdown",
      "metadata": {},
      "source": [
        "Lalu, data dipisah menjadi 80% training dan 20% testing"
      ]
    },
    {
      "cell_type": "code",
      "execution_count": 61,
      "metadata": {
        "colab": {
          "base_uri": "https://localhost:8080/"
        },
        "id": "OHc5RqgviCeT",
        "outputId": "0beb38c3-c02e-4b0b-a083-e8b42486241b"
      },
      "outputs": [
        {
          "name": "stdout",
          "output_type": "stream",
          "text": [
            "shape X_train:  (2320, 7)\n",
            "shape X_test:  (580, 7)\n",
            "shape y_train:  (2320,)\n",
            "shape y_test:  (580,)\n"
          ]
        }
      ],
      "source": [
        "print(\"shape X_train: \",x_train.shape)\n",
        "print(\"shape X_test: \",x_test.shape)\n",
        "print(\"shape y_train: \",y_train.shape)\n",
        "print(\"shape y_test: \",y_test.shape)"
      ]
    },
    {
      "cell_type": "markdown",
      "metadata": {
        "id": "57gqfFmaiOjw"
      },
      "source": [
        "**Random Forest**"
      ]
    },
    {
      "cell_type": "code",
      "execution_count": 62,
      "metadata": {
        "id": "rF33_UDCiTyK"
      },
      "outputs": [],
      "source": [
        "from sklearn.ensemble import RandomForestClassifier\n",
        "from sklearn.model_selection import RandomizedSearchCV"
      ]
    },
    {
      "cell_type": "code",
      "execution_count": 63,
      "metadata": {
        "id": "JCRrwfGRiYz9"
      },
      "outputs": [],
      "source": [
        "RF_class = RandomForestClassifier()\n",
        "RF_class.fit(x_train, y_train)\n",
        "y_predict=RF_class.predict(x_test)"
      ]
    },
    {
      "cell_type": "code",
      "execution_count": 64,
      "metadata": {
        "colab": {
          "base_uri": "https://localhost:8080/"
        },
        "id": "jmwg4Mciid41",
        "outputId": "d4e8e444-a007-4a93-d6fb-d0ff8c603c3e"
      },
      "outputs": [
        {
          "name": "stdout",
          "output_type": "stream",
          "text": [
            "\n",
            "Classification Report\n",
            "\n",
            "              precision    recall  f1-score   support\n",
            "\n",
            "           0       0.90      0.93      0.91       270\n",
            "           1       0.93      0.91      0.92       310\n",
            "\n",
            "    accuracy                           0.92       580\n",
            "   macro avg       0.91      0.92      0.92       580\n",
            "weighted avg       0.92      0.92      0.92       580\n",
            "\n"
          ]
        }
      ],
      "source": [
        "print('\\nClassification Report\\n')\n",
        "print(classification_report(y_test, y_predict, target_names=['0','1']))"
      ]
    },
    {
      "cell_type": "markdown",
      "metadata": {},
      "source": [
        "\n",
        "Pada dataset ini, model Random Forest mampu mengklasifikasikan individu sebagai ekstrovert atau introvert dengan akurasi sebesar 91%.\n",
        "\n",
        "Model ini menunjukkan keseimbangan performa pada kedua kelas, dengan nilai precision, recall, dan f1-score di atas 0.90. Hal ini menunjukkan bahwa model dapat mengenali pola perilaku dengan baik, tanpa cenderung bias terhadap salah satu kelas.\n"
      ]
    },
    {
      "cell_type": "markdown",
      "metadata": {
        "id": "nTGgzkn3igCZ"
      },
      "source": [
        "**Hyperparameter Tuning using RandomizedSearchCV**"
      ]
    },
    {
      "cell_type": "code",
      "execution_count": 65,
      "metadata": {
        "id": "BcVKdJSliic8"
      },
      "outputs": [],
      "source": [
        "param_dist = {\n",
        "    'n_estimators': [100, 200, 300, 400, 500],\n",
        "    'max_depth': [None, 5, 10, 15, 20],\n",
        "    'min_samples_split': [2, 5, 10],\n",
        "    'min_samples_leaf': [1, 2, 4],\n",
        "    'max_features': ['auto', 'sqrt', 'log2']\n",
        "}"
      ]
    },
    {
      "cell_type": "markdown",
      "metadata": {},
      "source": [
        "Hyperparameter tuning dilakukan menggunakan RandomizedSearchCV, yaitu metode untuk mencari kombinasi parameter terbaik secara acak. Berikut arti masing-masing parameter yang diuji:\n",
        "- n_estimators: Jumlah pohon dalam model.\n",
        "- max_depth: Batas kedalaman pohon.\n",
        "- min_samples_split: Minimum data untuk membagi node.\n",
        "- min_samples_leaf: Minimum data pada daun pohon.\n",
        "- max_features: Jumlah fitur yang dipakai saat split.\n"
      ]
    },
    {
      "cell_type": "code",
      "execution_count": 66,
      "metadata": {
        "colab": {
          "base_uri": "https://localhost:8080/"
        },
        "id": "kOQGkK17ioYW",
        "outputId": "352c559a-33ce-48a5-8103-1aab684dd09a"
      },
      "outputs": [],
      "source": [
        "rf = RandomForestClassifier()\n",
        "\n",
        "random_search = RandomizedSearchCV(estimator=rf, param_distributions=param_dist, n_iter=10, cv=5, scoring='accuracy', random_state=42)\n",
        "\n",
        "random_search.fit(x_train, y_train)\n",
        "\n",
        "best_rf = random_search.best_estimator_"
      ]
    },
    {
      "cell_type": "code",
      "execution_count": 67,
      "metadata": {
        "colab": {
          "base_uri": "https://localhost:8080/"
        },
        "id": "4AEPLoWTirE-",
        "outputId": "e4e0c5f1-55b7-420e-a1ce-266f593901f7"
      },
      "outputs": [
        {
          "name": "stdout",
          "output_type": "stream",
          "text": [
            "              precision    recall  f1-score   support\n",
            "\n",
            "           0       0.91      0.93      0.92       270\n",
            "           1       0.94      0.92      0.93       310\n",
            "\n",
            "    accuracy                           0.93       580\n",
            "   macro avg       0.93      0.93      0.93       580\n",
            "weighted avg       0.93      0.93      0.93       580\n",
            "\n"
          ]
        }
      ],
      "source": [
        "y_pred = best_rf.predict(x_test)\n",
        "print(classification_report(y_test, y_pred, target_names=['0','1']))"
      ]
    },
    {
      "cell_type": "markdown",
      "metadata": {},
      "source": [
        "Setelah dilakukan hyperparameter tuning menggunakan RandomizedSearchCV model mengalami peningkatan nilai akurasi menjadi 93%\n",
        "\n",
        "Ini menunjukkan bahwa pemilihan parameter yang tepat berdampak signifikan terhadap performa model."
      ]
    },
    {
      "cell_type": "markdown",
      "metadata": {
        "id": "uHYNd5SUiQ_a"
      },
      "source": [
        "**XG Boost**"
      ]
    },
    {
      "cell_type": "code",
      "execution_count": 68,
      "metadata": {
        "id": "SVi6-BCsi8Yr"
      },
      "outputs": [],
      "source": [
        "import xgboost as xgb\n",
        "from sklearn.model_selection import GridSearchCV\n",
        "from sklearn.metrics import classification_report"
      ]
    },
    {
      "cell_type": "code",
      "execution_count": 69,
      "metadata": {
        "colab": {
          "base_uri": "https://localhost:8080/"
        },
        "id": "DQxZTI3SjB8s",
        "outputId": "fcea3763-1073-41d5-e68c-784daa0f8dd8"
      },
      "outputs": [],
      "source": [
        "xgb_model = xgb.XGBClassifier(use_label_encoder=False, eval_metric='mlogloss')\n",
        "xgb_model.fit(x_train, y_train)\n",
        "y_predict = xgb_model.predict(x_test)"
      ]
    },
    {
      "cell_type": "code",
      "execution_count": 70,
      "metadata": {
        "colab": {
          "base_uri": "https://localhost:8080/"
        },
        "id": "e8jvRr8tjMRz",
        "outputId": "26fb4b34-e7a2-4500-a590-fb175b00409e"
      },
      "outputs": [
        {
          "name": "stdout",
          "output_type": "stream",
          "text": [
            "\n",
            "Classification Report\n",
            "\n",
            "              precision    recall  f1-score   support\n",
            "\n",
            "           0       0.90      0.92      0.91       270\n",
            "           1       0.93      0.91      0.92       310\n",
            "\n",
            "    accuracy                           0.92       580\n",
            "   macro avg       0.91      0.92      0.92       580\n",
            "weighted avg       0.92      0.92      0.92       580\n",
            "\n"
          ]
        }
      ],
      "source": [
        "print('\\nClassification Report\\n')\n",
        "print(classification_report(y_test, y_predict, target_names=['0','1']))"
      ]
    },
    {
      "cell_type": "markdown",
      "metadata": {},
      "source": [
        "Pada dataset ini, model XGBoost memiliki nilai akurasi sebesar 91% sama seperti Random Forest\n",
        "\n",
        "XGBoost membangun model secara bertahap dengan memanfaatkan kesalahan dari iterasi sebelumnya, sehingga mampu menghasilkan prediksi yang lebih akurat dan stabil."
      ]
    },
    {
      "cell_type": "markdown",
      "metadata": {
        "id": "FpGGe64wjPSh"
      },
      "source": [
        "**Hyperparameter Tuning using GridSearchCV**"
      ]
    },
    {
      "cell_type": "code",
      "execution_count": 71,
      "metadata": {
        "id": "is5SOOlTjW_m"
      },
      "outputs": [],
      "source": [
        "param_grid = {\n",
        "    'n_estimators': [50, 100, 200],\n",
        "    'max_depth': [3, 5, 7],\n",
        "    'learning_rate': [0.01, 0.1, 0.2],\n",
        "    'min_child_weight': [1, 2]\n",
        "}"
      ]
    },
    {
      "cell_type": "markdown",
      "metadata": {},
      "source": [
        "- n_estimators: jumlah pohon yang digunakan dalam boosting.\n",
        "- max_depth: kedalaman maksimum tiap pohon (mencegah overfitting).\n",
        "- learning_rate: seberapa besar kontribusi setiap pohon baru (semakin kecil, training lebih lambat tapi akurat).\n",
        "- min_child_weight: jumlah minimum sampel yang dibutuhkan untuk membuat node baru (mengontrol kompleksitas model).\n"
      ]
    },
    {
      "cell_type": "code",
      "execution_count": 72,
      "metadata": {
        "id": "fwG4A-Fhjam4"
      },
      "outputs": [],
      "source": [
        "grid_search_xgb = GridSearchCV(xgb_model,\n",
        "                            param_grid = param_grid,\n",
        "                            scoring='accuracy',\n",
        "                            cv=5)"
      ]
    },
    {
      "cell_type": "code",
      "execution_count": 73,
      "metadata": {
        "colab": {
          "base_uri": "https://localhost:8080/"
        },
        "collapsed": true,
        "id": "tlWDS-CLjjAj",
        "outputId": "a1a29e48-ad16-48ca-e323-786564a9365b"
      },
      "outputs": [
        {
          "name": "stdout",
          "output_type": "stream",
          "text": [
            "Tuned Hyperparameters : {'learning_rate': 0.1, 'max_depth': 3, 'min_child_weight': 2, 'n_estimators': 200}\n"
          ]
        }
      ],
      "source": [
        "grid_search_xgb.fit(x_train,y_train)\n",
        "print(\"Tuned Hyperparameters :\", grid_search_xgb.best_params_)"
      ]
    },
    {
      "cell_type": "code",
      "execution_count": 74,
      "metadata": {
        "id": "yr31sRzxjlsM"
      },
      "outputs": [],
      "source": [
        "best_model_xgb = grid_search_xgb.best_estimator_\n",
        "y_predict_xgb = best_model_xgb.predict(x_test)"
      ]
    },
    {
      "cell_type": "code",
      "execution_count": 75,
      "metadata": {
        "colab": {
          "base_uri": "https://localhost:8080/"
        },
        "id": "3ruDaOizjrT3",
        "outputId": "a9778171-d1e3-4702-83bf-d2e757d9b8e3"
      },
      "outputs": [
        {
          "name": "stdout",
          "output_type": "stream",
          "text": [
            "\n",
            "Classification Report\n",
            "\n",
            "              precision    recall  f1-score   support\n",
            "\n",
            "           0       0.91      0.93      0.92       270\n",
            "           1       0.94      0.92      0.93       310\n",
            "\n",
            "    accuracy                           0.93       580\n",
            "   macro avg       0.93      0.93      0.93       580\n",
            "weighted avg       0.93      0.93      0.93       580\n",
            "\n"
          ]
        }
      ],
      "source": [
        "print('\\nClassification Report\\n')\n",
        "print(classification_report(y_test, y_predict_xgb, target_names=['0','1']))"
      ]
    },
    {
      "cell_type": "markdown",
      "metadata": {},
      "source": [
        "Setelah dilakukan hyperparameter tuning menggunakan GridSearchCV model mengalami peningkatan nilai akurasi menjadi 93%\n",
        "\n",
        "menunjukkan bahwa pemilihan parameter yang tepat berdampak signifikan terhadap performa model.\n"
      ]
    },
    {
      "cell_type": "markdown",
      "metadata": {
        "id": "tu6K_uRycmt1"
      },
      "source": [
        "## Pipeline Wrapping & Export .pkl"
      ]
    },
    {
      "cell_type": "code",
      "execution_count": 76,
      "metadata": {
        "colab": {
          "base_uri": "https://localhost:8080/"
        },
        "id": "NXrMVYD9aTQe",
        "outputId": "205b955d-fc3c-4599-df92-120d30ed517d"
      },
      "outputs": [
        {
          "name": "stderr",
          "output_type": "stream",
          "text": [
            "C:\\Users\\Renata Aqila\\AppData\\Roaming\\Python\\Python37\\site-packages\\ipykernel_launcher.py:1: FutureWarning: The default value of regex will change from True to False in a future version. In addition, single character regular expressions will *not* be treated as literal strings when regex=True.\n",
            "  \"\"\"Entry point for launching an IPython kernel.\n",
            "C:\\Users\\Renata Aqila\\AppData\\Roaming\\Python\\Python37\\site-packages\\ipykernel_launcher.py:2: FutureWarning: The default value of regex will change from True to False in a future version. In addition, single character regular expressions will *not* be treated as literal strings when regex=True.\n",
            "  \n"
          ]
        },
        {
          "data": {
            "text/plain": [
              "['trained_model.pkl']"
            ]
          },
          "execution_count": 76,
          "metadata": {},
          "output_type": "execute_result"
        }
      ],
      "source": [
        "x_train.columns = x_train.columns.str.replace(\" \", \"_\").str.replace(\"(\", \"\").str.replace(\")\", \"\")\n",
        "x_test.columns = x_test.columns.str.replace(\" \", \"_\").str.replace(\"(\", \"\").str.replace(\")\", \"\")\n",
        "\n",
        "\n",
        "\n",
        "pipeline = Pipeline([\n",
        "    (\"scaler\", StandardScaler()),\n",
        "    (\"classifier\", best_rf)\n",
        "])\n",
        "\n",
        "pipeline.fit(x_train, y_train)\n",
        "joblib.dump(pipeline, \"trained_model.pkl\")"
      ]
    },
    {
      "cell_type": "code",
      "execution_count": 77,
      "metadata": {},
      "outputs": [
        {
          "name": "stdout",
          "output_type": "stream",
          "text": [
            "<class 'pandas.core.frame.DataFrame'>\n",
            "RangeIndex: 2900 entries, 0 to 2899\n",
            "Data columns (total 8 columns):\n",
            " #   Column                     Non-Null Count  Dtype  \n",
            "---  ------                     --------------  -----  \n",
            " 0   Time_spent_Alone           2900 non-null   float64\n",
            " 1   Stage_fear                 2900 non-null   int64  \n",
            " 2   Social_event_attendance    2900 non-null   float64\n",
            " 3   Going_outside              2900 non-null   float64\n",
            " 4   Drained_after_socializing  2900 non-null   int64  \n",
            " 5   Friends_circle_size        2900 non-null   float64\n",
            " 6   Post_frequency             2900 non-null   float64\n",
            " 7   Personality                2900 non-null   int64  \n",
            "dtypes: float64(5), int64(3)\n",
            "memory usage: 181.4 KB\n"
          ]
        }
      ],
      "source": [
        "df.info()"
      ]
    },
    {
      "cell_type": "code",
      "execution_count": 78,
      "metadata": {},
      "outputs": [
        {
          "name": "stdout",
          "output_type": "stream",
          "text": [
            "['Time_spent_Alone' 'Stage_fear' 'Social_event_attendance' 'Going_outside'\n",
            " 'Drained_after_socializing' 'Friends_circle_size' 'Post_frequency']\n"
          ]
        }
      ],
      "source": [
        "model = joblib.load(\"trained_model.pkl\")\n",
        "print(model.named_steps[\"scaler\"].feature_names_in_)\n"
      ]
    },
    {
      "cell_type": "code",
      "execution_count": 79,
      "metadata": {},
      "outputs": [
        {
          "name": "stdout",
          "output_type": "stream",
          "text": [
            "{'Time_spent_Alone': 4.0, 'Stage_fear': 0.0, 'Social_event_attendance': 4.0, 'Going_outside': 6.0, 'Drained_after_socializing': 0.0, 'Friends_circle_size': 13.0, 'Post_frequency': 5.0, 'Personality': 0.0}\n"
          ]
        }
      ],
      "source": [
        "sample = df.iloc[0].to_dict()\n",
        "print(sample)"
      ]
    }
  ],
  "metadata": {
    "colab": {
      "provenance": []
    },
    "kernelspec": {
      "display_name": "Python 3",
      "name": "python3"
    },
    "language_info": {
      "codemirror_mode": {
        "name": "ipython",
        "version": 3
      },
      "file_extension": ".py",
      "mimetype": "text/x-python",
      "name": "python",
      "nbconvert_exporter": "python",
      "pygments_lexer": "ipython3",
      "version": "3.7.6"
    }
  },
  "nbformat": 4,
  "nbformat_minor": 0
}
